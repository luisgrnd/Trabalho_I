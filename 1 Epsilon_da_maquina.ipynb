{
 "cells": [
  {
   "cell_type": "markdown",
   "metadata": {},
   "source": [
    "### Questão 1\n",
    "\n",
    "Pesquise e responda: O que é o \"Épsilon da Máquina\"? Apresente um programa em\n",
    "python para obter o épsilon do computador que você usa. Qual o valor obtido com\n",
    "seu programa?"
   ]
  },
  {
   "cell_type": "code",
   "execution_count": 1,
   "metadata": {},
   "outputs": [
    {
     "name": "stdout",
     "output_type": "stream",
     "text": [
      "epson da máquina:  5e-324\n"
     ]
    }
   ],
   "source": [
    "x = 1\n",
    "while x>0:                                       \n",
    "    y = x/2.0                                    \n",
    "    if y == 0:          # se y for 0 imprimimos o valor anterior a ele, que será o menor real positivo representável,\n",
    "        print ('epson da máquina: ', x)         \n",
    "        break           # e paramos o laço\n",
    "    else:               # se não, atribuímos o valor de y à x e reiniciamos o laço \n",
    "        x = y\n"
   ]
  },
  {
   "cell_type": "markdown",
   "metadata": {},
   "source": [
    "Denomina-se épsilon da máquina o menor número que somado a 1 produza resultado diferente de 1, ou seja, o valor mais próximo de zero. O valor obtido num computador de 64 bit foi de 1.1102230246251565e-16, mesmo resultado testado no celular."
   ]
  },
  {
   "cell_type": "code",
   "execution_count": 9,
   "metadata": {},
   "outputs": [
    {
     "name": "stdout",
     "output_type": "stream",
     "text": [
      "1.1102230246251565e-16\n"
     ]
    }
   ],
   "source": [
    "eps=1\n",
    "\n",
    "while (eps+1) > 1.0:\n",
    "   eps=eps/2\n",
    "\n",
    "\n",
    "print(eps)"
   ]
  },
  {
   "cell_type": "code",
   "execution_count": null,
   "metadata": {},
   "outputs": [],
   "source": []
  }
 ],
 "metadata": {
  "kernelspec": {
   "display_name": "Python 3",
   "language": "python",
   "name": "python3"
  },
  "language_info": {
   "codemirror_mode": {
    "name": "ipython",
    "version": 3
   },
   "file_extension": ".py",
   "mimetype": "text/x-python",
   "name": "python",
   "nbconvert_exporter": "python",
   "pygments_lexer": "ipython3",
   "version": "3.6.4"
  }
 },
 "nbformat": 4,
 "nbformat_minor": 2
}
