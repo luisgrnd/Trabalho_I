{
 "cells": [
  {
   "cell_type": "markdown",
   "metadata": {
    "scrolled": true
   },
   "source": [
    "### Questão 3\n",
    "\n",
    "O número e pode ser defnido pela série "
   ]
  },
  {
   "cell_type": "code",
   "execution_count": 8,
   "metadata": {
    "scrolled": true
   },
   "outputs": [
    {
     "name": "stdout",
     "output_type": "stream",
     "text": [
      "2.0 1.0 0.5\n",
      "2.5 2.0 0.2\n",
      "2.6666666666666665 2.5 0.062499999999999944\n",
      "2.708333333333333 2.6666666666666665 0.015384615384615332\n",
      "2.7166666666666663 2.708333333333333 0.0030674846625766768\n",
      "2.7180555555555554 2.7166666666666663 0.0005109862033725888\n",
      "2.7182539682539684 2.7180555555555554 7.299270073000844e-05\n"
     ]
    }
   ],
   "source": [
    "import math\n",
    "e = 0                                   # damos o valor do primeiro termo (1/0!) a 'e',\n",
    "e_prox = 1                             # zero para o termo anterior\n",
    "n = 0                                   # e iniciamos a série a partir de n = 1\n",
    "erro= 10\n",
    "\n",
    "while erro > 0.0001:\n",
    "\n",
    "    e = e + 1.0/math.factorial(n)\n",
    "    e_prox = e_prox + 1.0/math.factorial(n+1)\n",
    "    n = n + 1\n",
    "    \n",
    "    erro = abs((e_prox - e)/e_prox)\n",
    "    \n",
    "    print (e_prox, e, erro)"
   ]
  },
  {
   "cell_type": "markdown",
   "metadata": {},
   "source": []
  },
  {
   "cell_type": "code",
   "execution_count": null,
   "metadata": {},
   "outputs": [],
   "source": []
  }
 ],
 "metadata": {
  "kernelspec": {
   "display_name": "Python 3",
   "language": "python",
   "name": "python3"
  },
  "language_info": {
   "codemirror_mode": {
    "name": "ipython",
    "version": 3
   },
   "file_extension": ".py",
   "mimetype": "text/x-python",
   "name": "python",
   "nbconvert_exporter": "python",
   "pygments_lexer": "ipython3",
   "version": "3.6.4"
  }
 },
 "nbformat": 4,
 "nbformat_minor": 2
}
