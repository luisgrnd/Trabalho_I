{
 "cells": [
  {
   "cell_type": "code",
   "execution_count": 47,
   "metadata": {},
   "outputs": [
    {
     "name": "stdout",
     "output_type": "stream",
     "text": [
      "Para que o erro seja menor que 0.0001, são necessárias 6 termos no polinômio de Taylor\n"
     ]
    }
   ],
   "source": [
    "import math\n",
    "\n",
    "x = -0.2\n",
    "x0 = 0\n",
    "erro = 0.1\n",
    "n = 1\n",
    "\n",
    "\n",
    "p = math.log(x0+1) \n",
    "p_prox = 0\n",
    "\n",
    "\n",
    "f = lambda n: (((-1)**(n+1)) * math.factorial(n-1) * (x0+1)**(-n) * (x-x0 )**n)/(math.factorial(n))\n",
    "\n",
    "while erro > 0.0001:\n",
    "    \n",
    "    p = p + f(n)\n",
    "    p_prox = p + f(n+1)\n",
    "    erro = abs(p - p_prox)\n",
    "    n = n + 1\n",
    "    \n",
    "    \n",
    "print (\"Para que o erro seja menor que 0.0001, são necessárias\",n+1,\"termos no polinômio de Taylor\")\n",
    "    "
   ]
  },
  {
   "cell_type": "code",
   "execution_count": null,
   "metadata": {},
   "outputs": [],
   "source": []
  },
  {
   "cell_type": "code",
   "execution_count": null,
   "metadata": {},
   "outputs": [],
   "source": []
  },
  {
   "cell_type": "code",
   "execution_count": null,
   "metadata": {},
   "outputs": [],
   "source": []
  }
 ],
 "metadata": {
  "kernelspec": {
   "display_name": "Python 3",
   "language": "python",
   "name": "python3"
  },
  "language_info": {
   "codemirror_mode": {
    "name": "ipython",
    "version": 3
   },
   "file_extension": ".py",
   "mimetype": "text/x-python",
   "name": "python",
   "nbconvert_exporter": "python",
   "pygments_lexer": "ipython3",
   "version": "3.6.4"
  }
 },
 "nbformat": 4,
 "nbformat_minor": 2
}
