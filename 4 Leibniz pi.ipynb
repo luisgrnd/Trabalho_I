{
 "cells": [
  {
   "cell_type": "markdown",
   "metadata": {},
   "source": [
    "### Questão 4\n",
    "\n",
    "A fórmula de Leibniz para o número "
   ]
  },
  {
   "cell_type": "code",
   "execution_count": 7,
   "metadata": {},
   "outputs": [
    {
     "name": "stdout",
     "output_type": "stream",
     "text": [
      "pi aprox igual a  3.1611986129870506\n"
     ]
    }
   ],
   "source": [
    "pi = 0                                   # damos o valor do primeiro termo (1/0!) a 'e',\n",
    "pi_prox = 0                              # zero para o termo anterior\n",
    "n = 0                                   # e iniciamos a série a partir de n = 1\n",
    "\n",
    "while n<51:\n",
    "\n",
    "    pi = pi + (-1.0)**n/(2*n+1)\n",
    "    n = n + 1\n",
    "    \n",
    "    #print pi\n",
    "    \n",
    "pi = 4*pi\n",
    "print (\"pi aprox igual a \",pi)\n"
   ]
  },
  {
   "cell_type": "markdown",
   "metadata": {},
   "source": []
  },
  {
   "cell_type": "code",
   "execution_count": null,
   "metadata": {},
   "outputs": [],
   "source": []
  }
 ],
 "metadata": {
  "kernelspec": {
   "display_name": "Python 3",
   "language": "python",
   "name": "python3"
  },
  "language_info": {
   "codemirror_mode": {
    "name": "ipython",
    "version": 3
   },
   "file_extension": ".py",
   "mimetype": "text/x-python",
   "name": "python",
   "nbconvert_exporter": "python",
   "pygments_lexer": "ipython3",
   "version": "3.6.4"
  }
 },
 "nbformat": 4,
 "nbformat_minor": 2
}
